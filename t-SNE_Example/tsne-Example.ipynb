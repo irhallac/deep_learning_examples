{
 "cells": [
  {
   "cell_type": "markdown",
   "metadata": {},
   "source": [
    "<b> <h1> vektörlerin tSNE ile boyut indirgenmesi ve görselleştirilmesi </h1> <br>"
   ]
  },
  {
   "cell_type": "code",
   "execution_count": 1,
   "metadata": {},
   "outputs": [],
   "source": [
    "# kelimeVec-1.txt dosyasında önceden eğitilmiş kelimeler ve bunların vektör karşılıkları olsun:\n",
    "\n",
    "    #  türkiye 0.17971 -0.33787 -0.29897 -0.45949 \n",
    "    #  istanbul -0.046406 0.036643 -0.1067 -0.12378 \n",
    "    #  ankara -0.026434 0.013544 -0.091341 -0.19564 \n",
    "    #  almanya 0.10396 -0.12048 0.027103 -0.4349 \n",
    "    #  fransa -0.37203 0.02605 -0.23266 -1.1524 \n",
    "    #  paris -0.25637 -0.073173 -0.18539 -0.66266 \n",
    "    #  berlin -0.16518 -0.16686 0.10747 0.095184\n",
    "    #  münih -0.080603 0.28828 0.46011 -0.22857\n",
    "    #  frankfurt 0.10926 0.15596 -0.027719 0.0064991"
   ]
  },
  {
   "cell_type": "code",
   "execution_count": 2,
   "metadata": {},
   "outputs": [
    {
     "name": "stdout",
     "output_type": "stream",
     "text": [
      "/home/ibrahim/.conda/envs/irhTF35/bin/python\n"
     ]
    }
   ],
   "source": [
    "import os\n",
    "import sys\n",
    "\n",
    "# Hangi  Python ?\n",
    "print(sys.executable)"
   ]
  },
  {
   "cell_type": "code",
   "execution_count": 3,
   "metadata": {},
   "outputs": [],
   "source": [
    "#dosya yolunu belirle\n",
    "\n",
    "here = os.getcwd()\n",
    "sample_dir = os.path.join(here, \"kelimeVec-1.txt\")\n",
    "#print(sample_dir)"
   ]
  },
  {
   "cell_type": "code",
   "execution_count": 12,
   "metadata": {},
   "outputs": [
    {
     "name": "stdout",
     "output_type": "stream",
     "text": [
      "9 adet vektör bulundu.\n"
     ]
    }
   ],
   "source": [
    "# kelimeleri y, vektör karşılıklarını da x arraylerine yerleştir\n",
    "\n",
    "arr_x = [] \n",
    "arr_y = [] \n",
    "\n",
    "with open(sample_dir, \"r\", encoding=\"utf-8\") as ins:\n",
    "    for line in ins:\n",
    "        values = line.strip().split()\n",
    "        arr_y.append(values[0])\n",
    "        arr_x.append(values[1:])\n",
    "print('%s adet vektör bulundu.' % len(arr_y))"
   ]
  },
  {
   "cell_type": "code",
   "execution_count": 5,
   "metadata": {},
   "outputs": [
    {
     "name": "stdout",
     "output_type": "stream",
     "text": [
      "['0.17971', '-0.33787', '-0.29897', '-0.45949']  =  türkiye\n"
     ]
    }
   ],
   "source": [
    "print(arr_x[0], \" = \", arr_y[0])"
   ]
  },
  {
   "cell_type": "code",
   "execution_count": 11,
   "metadata": {},
   "outputs": [],
   "source": [
    "from sklearn.manifold import TSNE\n",
    "\n",
    "# önce bir TSNE modeli nesnesi oluşturulur\n",
    "model = TSNE(learning_rate = 100)\n",
    "\n",
    "# bazı önemli default parametler:\n",
    "\n",
    "# learning_rate=200.0,  10.0 ile 1000.0 arasında\n",
    "# n_iter = 1000,  en az 250 olmalı \n",
    "# min_grad_norm=1e-07,\n",
    "# metric=’euclidean’,\n",
    "\n",
    "# fit_transform metoduyla boyut indirgeme modeli eğitilir\n",
    "\n",
    "transformed = model.fit_transform(arr_x)\n",
    "\n",
    "# önemli !!!\n",
    "# fit_transform her çağrıldığında birebir aynı noktaları bulmayacaktır\n",
    "# dolayısıyla çizdireceğimiz X,Y koordinat değerleri de farklı çıkacaktır"
   ]
  },
  {
   "cell_type": "code",
   "execution_count": 10,
   "metadata": {},
   "outputs": [
    {
     "data": {
      "text/plain": [
       "<matplotlib.collections.PathCollection at 0x7f4ec170cf98>"
      ]
     },
     "execution_count": 10,
     "metadata": {},
     "output_type": "execute_result"
    },
    {
     "data": {
      "image/png": "[encoded data removed]",
      "text/plain": [
       "<Figure size 432x288 with 1 Axes>"
      ]
     },
     "metadata": {
      "needs_background": "light"
     },
     "output_type": "display_data"
    }
   ],
   "source": [
    "# indirgenmiş vektörlerin grafik üzerinde gösterilmesi\n",
    "\n",
    "import matplotlib.pyplot as plt\n",
    "\n",
    "xs = transformed[:,0]\n",
    "ys = transformed[:,1]\n",
    "\n",
    "# semantik benzerleğine göre kelimelere renkler verirsek\n",
    "# 0: türkiye, istanbul, ankara\n",
    "# 1: almanya, berlin, münih, frankfurt\n",
    "# 2: fransa, paris\n",
    "\n",
    "gruplar = [0, 0, 0, 1, 2, 2, 1, 1, 1]\n",
    "\n",
    "plt.scatter(xs, ys, c=gruplar)"
   ]
  }
 ],
 "metadata": {
  "kernelspec": {
   "display_name": "Python 3",
   "language": "python",
   "name": "python3"
  },
  "language_info": {
   "codemirror_mode": {
    "name": "ipython",
    "version": 3
   },
   "file_extension": ".py",
   "mimetype": "text/x-python",
   "name": "python",
   "nbconvert_exporter": "python",
   "pygments_lexer": "ipython3",
   "version": "3.5.6"
  }
 },
 "nbformat": 4,
 "nbformat_minor": 1
}
