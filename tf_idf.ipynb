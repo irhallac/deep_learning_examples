{
  "nbformat": 4,
  "nbformat_minor": 0,
  "metadata": {
    "colab": {
      "name": "tf_idf.ipynb",
      "version": "0.3.2",
      "provenance": []
    },
    "kernelspec": {
      "name": "python2",
      "display_name": "Python 2"
    }
  },
  "cells": [
    {
      "cell_type": "markdown",
      "metadata": {
        "id": "view-in-github",
        "colab_type": "text"
      },
      "source": [
        "[View in Colaboratory](https://colab.research.google.com/github/irhallac/deep_learning_examples/blob/master/tf_idf.ipynb)"
      ]
    },
    {
      "metadata": {
        "id": "sOQaLpqHU5fh",
        "colab_type": "code",
        "colab": {}
      },
      "cell_type": "code",
      "source": [
        "from sklearn.feature_extraction.text import TfidfVectorizer\n",
        "# list of text documents\n",
        "\n",
        "#virgülle ayrılmış her elaman bir tane şarkının tüm sözleri olsun\n",
        "\n",
        "text = [\"The quick brown fox jumped over the lazy dog.\",\n",
        "\t\t\"The dog.\",\n",
        "\t\t\"The fox\"]"
      ],
      "execution_count": 0,
      "outputs": []
    },
    {
      "metadata": {
        "id": "Pga1FgDgX83O",
        "colab_type": "code",
        "colab": {
          "base_uri": "https://localhost:8080/",
          "height": 144
        },
        "outputId": "e056a32d-2cc4-4387-a616-404331aa70ea"
      },
      "cell_type": "code",
      "source": [
        "# nesne oluşturuyor\n",
        "vectorizer = TfidfVectorizer()\n",
        "\n",
        "# gönderdiğimiz text dizisinde geçen bütün kelimelerin listesinden ..\n",
        "# .. bir vocabulary oluşturuyor.\n",
        "# noktalama işareti temizliği vs. hepsini kendisi yapıyor\n",
        "vectorizer.fit(text)"
      ],
      "execution_count": 3,
      "outputs": [
        {
          "output_type": "execute_result",
          "data": {
            "text/plain": [
              "TfidfVectorizer(analyzer=u'word', binary=False, decode_error=u'strict',\n",
              "        dtype=<type 'numpy.int64'>, encoding=u'utf-8', input=u'content',\n",
              "        lowercase=True, max_df=1.0, max_features=None, min_df=1,\n",
              "        ngram_range=(1, 1), norm=u'l2', preprocessor=None, smooth_idf=True,\n",
              "        stop_words=None, strip_accents=None, sublinear_tf=False,\n",
              "        token_pattern=u'(?u)\\\\b\\\\w\\\\w+\\\\b', tokenizer=None, use_idf=True,\n",
              "        vocabulary=None)"
            ]
          },
          "metadata": {
            "tags": []
          },
          "execution_count": 3
        }
      ]
    },
    {
      "metadata": {
        "id": "IzUIKP60YOYd",
        "colab_type": "code",
        "colab": {
          "base_uri": "https://localhost:8080/",
          "height": 35
        },
        "outputId": "bd28a165-bf67-4dc2-c9b2-709e4be0595b"
      },
      "cell_type": "code",
      "source": [
        "# kelimelere ve aldıkları id'lere bakalım\n",
        "print(vectorizer.vocabulary_)\n",
        "\n",
        "# text[0]'ın vektör karşılığı\n",
        "vector0 = vectorizer.transform([text[0]])"
      ],
      "execution_count": 6,
      "outputs": [
        {
          "output_type": "stream",
          "text": [
            "{u'brown': 0, u'lazy': 4, u'jumped': 3, u'over': 5, u'fox': 2, u'dog': 1, u'quick': 6, u'the': 7}\n"
          ],
          "name": "stdout"
        }
      ]
    },
    {
      "metadata": {
        "id": "lXi7suPdYfoK",
        "colab_type": "code",
        "colab": {
          "base_uri": "https://localhost:8080/",
          "height": 35
        },
        "outputId": "c7f4ba00-c48c-46cb-e301-474d1bb14fcf"
      },
      "cell_type": "code",
      "source": [
        "# text[0]'ın boyutu\n",
        "# 1'e 8 olacak. çünki toplam 8 farklı kelime var\n",
        "# her dokümanın vektör uzunluğu vocab. uzunluğuna eşit olur\n",
        "# kelimelerin tf-idf karşılıkları yan yana yazılmasına vektorization diyoruz\n",
        "# dokumanda kaç kelime olursa olsun boyutu 8 olmalı. kelime yoksa yerine sıfır yazar\n",
        "\n",
        "print(vector0.shape)"
      ],
      "execution_count": 8,
      "outputs": [
        {
          "output_type": "stream",
          "text": [
            "(1, 8)\n"
          ],
          "name": "stdout"
        }
      ]
    },
    {
      "metadata": {
        "id": "CnsjLsuoc-5_",
        "colab_type": "code",
        "colab": {
          "base_uri": "https://localhost:8080/",
          "height": 53
        },
        "outputId": "b703117d-4bca-44a6-9fed-d6de3c963303"
      },
      "cell_type": "code",
      "source": [
        "print(vector0.toarray())"
      ],
      "execution_count": 30,
      "outputs": [
        {
          "output_type": "stream",
          "text": [
            "[[0.36388646 0.27674503 0.27674503 0.36388646 0.36388646 0.36388646\n",
            "  0.36388646 0.42983441]]\n"
          ],
          "name": "stdout"
        }
      ]
    },
    {
      "metadata": {
        "id": "TQzaCc2eZZG9",
        "colab_type": "text"
      },
      "cell_type": "markdown",
      "source": [
        "# bütün text 'in  vektor karşılığı\n",
        "programında kullanacağın değerler bunlar olacak.\n",
        "sınıflandırmaya giriş olarak verilecek train ve testler yani\n",
        "\n",
        "train_X = [vektor0,vektor1,vektor2]\n",
        "train_Y = [label0, label1, label2]"
      ]
    },
    {
      "metadata": {
        "id": "BEVETClGb7vE",
        "colab_type": "code",
        "colab": {
          "base_uri": "https://localhost:8080/",
          "height": 35
        },
        "outputId": "af45cda0-9b9e-4b42-8d9f-6aeb7f7cc76a"
      },
      "cell_type": "code",
      "source": [
        "text_to_vec = vectorizer.transform(text)\n",
        "text_to_vec = text_to_vec.toarray()\n",
        "\n",
        "print text_to_vec.shape"
      ],
      "execution_count": 31,
      "outputs": [
        {
          "output_type": "stream",
          "text": [
            "(3, 8)\n"
          ],
          "name": "stdout"
        }
      ]
    },
    {
      "metadata": {
        "id": "-iUAXbrTcZpk",
        "colab_type": "code",
        "colab": {
          "base_uri": "https://localhost:8080/",
          "height": 126
        },
        "outputId": "f0fa981f-be91-40b6-b01c-085a5b04850e"
      },
      "cell_type": "code",
      "source": [
        "print text_to_vec"
      ],
      "execution_count": 28,
      "outputs": [
        {
          "output_type": "stream",
          "text": [
            "[[0.36388646 0.27674503 0.27674503 0.36388646 0.36388646 0.36388646\n",
            "  0.36388646 0.42983441]\n",
            " [0.         0.78980693 0.         0.         0.         0.\n",
            "  0.         0.61335554]\n",
            " [0.         0.         0.78980693 0.         0.         0.\n",
            "  0.         0.61335554]]\n"
          ],
          "name": "stdout"
        }
      ]
    }
  ]
}