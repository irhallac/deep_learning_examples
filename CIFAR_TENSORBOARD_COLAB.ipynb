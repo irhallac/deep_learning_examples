{
  "nbformat": 4,
  "nbformat_minor": 0,
  "metadata": {
    "colab": {
      "name": "CIFAR-TENSORBOARD-COLAB.ipynb",
      "version": "0.3.2",
      "provenance": [],
      "collapsed_sections": []
    },
    "kernelspec": {
      "name": "python2",
      "display_name": "Python 2"
    },
    "accelerator": "GPU"
  },
  "cells": [
    {
      "cell_type": "markdown",
      "metadata": {
        "id": "view-in-github",
        "colab_type": "text"
      },
      "source": [
        "[View in Colaboratory](https://colab.research.google.com/github/irhallac/deep_learning_examples/blob/master/CIFAR_TENSORBOARD_COLAB.ipynb)"
      ]
    },
    {
      "metadata": {
        "id": "wrW6351eg2hV",
        "colab_type": "code",
        "colab": {
          "base_uri": "https://localhost:8080/",
          "height": 34
        },
        "outputId": "97e765a8-6f8f-41d0-979b-2fc209da78c5"
      },
      "cell_type": "code",
      "source": [
        "from keras.datasets import cifar10\n",
        "from keras.utils import np_utils\n",
        "from keras.models import Sequential\n",
        "from keras.layers.core import Dense, Dropout, Activation, Flatten\n",
        "from keras.layers.convolutional import Conv2D, MaxPooling2D\n",
        "from keras.optimizers import SGD, Adam, RMSprop\n",
        "\n",
        "import matplotlib.pyplot as plt\n",
        "\n",
        "from keras.callbacks import TensorBoard\n",
        "from google.colab import files"
      ],
      "execution_count": 1,
      "outputs": [
        {
          "output_type": "stream",
          "text": [
            "Using TensorFlow backend.\n"
          ],
          "name": "stderr"
        }
      ]
    },
    {
      "metadata": {
        "id": "gGEINbID1Jqb",
        "colab_type": "code",
        "colab": {}
      },
      "cell_type": "code",
      "source": [
        "import os\n",
        "import requests\n",
        "import shutil\n",
        "import subprocess\n",
        "import tensorflow as tf\n",
        "\n",
        "__all__ = [\n",
        "  'install_ngrok', \n",
        "  'launch_tensorboard',\n",
        "]\n",
        "\n",
        "def __shell__(cmd, split=True):\n",
        "  # get_ipython().system_raw(cmd)\n",
        "  result = get_ipython().getoutput(cmd, split=split)\n",
        "  if result and not split:\n",
        "    result = result.strip('\\n')\n",
        "  return result  \n",
        "\n",
        "\n",
        "# tested OK\n",
        "def install_ngrok(bin_dir=\"/tmp\"):\n",
        "  \"\"\" download and install ngrok on local vm instance\n",
        "  Args:\n",
        "    bin_dir: full path for the target directory for the `ngrok` binary\n",
        "  \"\"\"\n",
        "  TARGET_DIR = bin_dir\n",
        "  CWD = os.getcwd()\n",
        "  is_grok_avail = os.path.isfile(os.path.join(TARGET_DIR,'ngrok'))\n",
        "  if is_grok_avail:\n",
        "    print(\"ngrok installed\")\n",
        "  else:\n",
        "    import platform\n",
        "    plat = platform.platform() # 'Linux-4.4.64+-x86_64-with-Ubuntu-17.10-artful'\n",
        "    if 'x86_64' in plat:\n",
        "      \n",
        "      os.chdir('/tmp')\n",
        "      print(\"calling wget https://bin.equinox.io/c/4VmDzA7iaHb/ngrok-stable-linux-amd64.zip ...\" )\n",
        "      get_ipython().system_raw( \"wget https://bin.equinox.io/c/4VmDzA7iaHb/ngrok-stable-linux-amd64.zip\" )\n",
        "      print(\"calling unzip ngrok-stable-linux-amd64.zip ...\")\n",
        "      get_ipython().system_raw( \"unzip ngrok-stable-linux-amd64.zip\" )\n",
        "      os.rename(\"ngrok\", \"{}/ngrok\".format(TARGET_DIR))\n",
        "      os.remove(\"ngrok-stable-linux-amd64.zip\")\n",
        "      is_grok_avail = os.path.isfile(os.path.join(TARGET_DIR,'ngrok'))\n",
        "      os.chdir(TARGET_DIR)\n",
        "      if is_grok_avail:\n",
        "        print(\"ngrok installed. path={}\".format(os.path.join(TARGET_DIR,'ngrok')))\n",
        "      else:\n",
        "        # ValueError: ERROR: ngrok not found, path=\n",
        "        raise ValueError( \"ERROR: ngrok not found, path=\".format(TARGET_DIR) )\n",
        "    else:\n",
        "      raise NotImplementedError( \"ERROR, ngrok install not configured for this platform, platform={}\".format(plat))\n",
        "    os.chdir(CWD)\n",
        "    return\n",
        "    \n",
        "# tested OK\n",
        "def launch_tensorboard(bin_dir=\"/tmp\", log_dir=\"/tmp\", retval=False):\n",
        "  \"\"\"returns a public tensorboard url based on the ngrok package\n",
        "  checks if `ngrok` is available, and installs, if necessary, to `bin_dir`\n",
        "  launches tensorboard, if necessary\n",
        "  see: https://stackoverflow.com/questions/47818822/can-i-use-tensorboard-with-google-colab\n",
        "  Args:\n",
        "    bin_dir: full path for the target directory for the `ngrok` binary\n",
        "    log_dir: full path for the tensorflow `log_dir`\n",
        "  Return:\n",
        "    public url for tensorboard if retval==True\n",
        "      NOTE: the method will print a link to stdout (cell output) for the tensorflow URL. \n",
        "      But the link printed from the return value has an extra \"%27\" in the URL which causes an error\n",
        "  \"\"\"\n",
        "  install_ngrok(bin_dir)\n",
        "    \n",
        "  if not tf.gfile.Exists(log_dir):  tf.gfile.MakeDirs(log_dir)\n",
        "  \n",
        "  # check status of tensorboard and ngrok\n",
        "  ps = __shell__(\"ps -ax\")\n",
        "  is_tensorboard_running = len([f for f in ps if \"tensorboard\" in f ]) > 0\n",
        "  is_ngrok_running = len([f for f in ps if \"ngrok\" in f ]) > 0\n",
        "  print(\"status: tensorboard={}, ngrok={}\".format(is_tensorboard_running, is_ngrok_running))\n",
        "\n",
        "  if not is_tensorboard_running:\n",
        "    get_ipython().system_raw(\n",
        "        'tensorboard --logdir {} --host 0.0.0.0 --port 6006 &'\n",
        "        .format(log_dir)\n",
        "    )\n",
        "    is_tensorboard_running = True\n",
        "    \n",
        "  if not is_ngrok_running:  \n",
        "    #    grok should be installed in /tmp/ngrok\n",
        "    get_ipython().system_raw('{}/ngrok http 6006 &'.format(bin_dir))\n",
        "    is_ngrok_running = True\n",
        "\n",
        "  # get tensorboard url\n",
        "  # BUG: getting connection refused for HTTPConnectionPool(host='localhost', port=4040)\n",
        "  #     on first run, retry works\n",
        "  import time\n",
        "  time.sleep(3)\n",
        "  retval = requests.get('http://localhost:4040/api/tunnels')\n",
        "  tensorboard_url = retval.json()['tunnels'][0]['public_url'].strip()\n",
        "  print(\"tensorboard url=\", tensorboard_url)\n",
        "  if retval:\n",
        "    return tensorboard_url\n"
      ],
      "execution_count": 0,
      "outputs": []
    },
    {
      "metadata": {
        "id": "vIZKGB-C4dqn",
        "colab_type": "code",
        "colab": {
          "base_uri": "https://localhost:8080/",
          "height": 119
        },
        "outputId": "3c0fc1c1-b8be-40ea-ec80-409fece3f161"
      },
      "cell_type": "code",
      "source": [
        "# set paths\n",
        "ROOT = %pwd\n",
        "LOG_DIR = os.path.join(ROOT, 'log1')\n",
        "\n",
        "# will install `ngrok`, if necessary\n",
        "# will create `log_dir` if path does not exist\n",
        "launch_tensorboard( bin_dir=ROOT, log_dir=LOG_DIR )"
      ],
      "execution_count": 3,
      "outputs": [
        {
          "output_type": "stream",
          "text": [
            "calling wget https://bin.equinox.io/c/4VmDzA7iaHb/ngrok-stable-linux-amd64.zip ...\n",
            "calling unzip ngrok-stable-linux-amd64.zip ...\n",
            "ngrok installed. path=/content/ngrok\n",
            "status: tensorboard=False, ngrok=False\n",
            "('tensorboard url=', u'http://13add4aa.ngrok.io')\n"
          ],
          "name": "stdout"
        },
        {
          "output_type": "execute_result",
          "data": {
            "text/plain": [
              "u'http://13add4aa.ngrok.io'"
            ]
          },
          "metadata": {
            "tags": []
          },
          "execution_count": 3
        }
      ]
    },
    {
      "metadata": {
        "id": "3epyIeVdIeqV",
        "colab_type": "code",
        "colab": {}
      },
      "cell_type": "code",
      "source": [
        "IMG_CHANNELS = 3\n",
        "IMG_ROWS = 32\n",
        "IMG_COLS = 32\n",
        "\n",
        "BATCH_SIZE = 128\n",
        "NB_EPOCH = 25\n",
        "NB_CLASSES = 10\n",
        "VERBOSE = 1\n",
        "VALIDATION_SPLIT = 0.2\n",
        "OPTIM = RMSprop()"
      ],
      "execution_count": 0,
      "outputs": []
    },
    {
      "metadata": {
        "id": "rc7RuTMHhNDb",
        "colab_type": "code",
        "colab": {
          "base_uri": "https://localhost:8080/",
          "height": 119
        },
        "outputId": "3c44612c-12d0-46d9-f4a7-f894d988db00"
      },
      "cell_type": "code",
      "source": [
        "\n",
        "\n",
        "(X_train, y_train), (X_test, y_test) = cifar10.load_data()\n",
        "print('X_train shape:', X_train.shape)\n",
        "print(X_train.shape[0], 'train samples')\n",
        "print(X_test.shape[0], 'test samples')\n",
        " \n",
        "\n",
        "Y_train = np_utils.to_categorical(y_train, NB_CLASSES)\n",
        "Y_test = np_utils.to_categorical(y_test, NB_CLASSES) \n",
        "\n",
        "\n",
        "X_train = X_train.astype('float32')\n",
        "X_test = X_test.astype('float32')\n",
        "X_train /= 255\n",
        "X_test /= 255"
      ],
      "execution_count": 5,
      "outputs": [
        {
          "output_type": "stream",
          "text": [
            "Downloading data from https://www.cs.toronto.edu/~kriz/cifar-10-python.tar.gz\n",
            "129572864/170498071 [=====================>........] - ETA: 12s"
          ],
          "name": "stdout"
        },
        {
          "output_type": "stream",
          "text": [
            "170500096/170498071 [==============================] - 47s 0us/step\n",
            "170508288/170498071 [==============================] - 47s 0us/step\n",
            "('X_train shape:', (50000, 32, 32, 3))\n",
            "(50000, 'train samples')\n",
            "(10000, 'test samples')\n"
          ],
          "name": "stdout"
        }
      ]
    },
    {
      "metadata": {
        "id": "wLkNYB3Rlgw8",
        "colab_type": "code",
        "colab": {}
      },
      "cell_type": "code",
      "source": [
        "#print(Y_train[0:5])\n",
        "#print(y_train[0:5])\n",
        "#print(Y_test[-1])\n",
        "#print(y_test[-1])"
      ],
      "execution_count": 0,
      "outputs": []
    },
    {
      "metadata": {
        "id": "-Q_g0-iumNkq",
        "colab_type": "code",
        "colab": {}
      },
      "cell_type": "code",
      "source": [
        "#print(X_train[0])"
      ],
      "execution_count": 0,
      "outputs": []
    },
    {
      "metadata": {
        "id": "CgGxLw1PhP4s",
        "colab_type": "code",
        "colab": {}
      },
      "cell_type": "code",
      "source": [
        "#TO DO\n",
        "model = Sequential()\n",
        "model.add(Conv2D(128, (3, 3), padding='same', input_shape=(IMG_ROWS, IMG_COLS, IMG_CHANNELS)))\n",
        "model.add(Activation('relu'))\n",
        "model.add(MaxPooling2D(pool_size=(2, 2)))\n",
        "model.add(Dropout(0.25))"
      ],
      "execution_count": 0,
      "outputs": []
    },
    {
      "metadata": {
        "id": "gJy-GDvLni40",
        "colab_type": "code",
        "colab": {
          "base_uri": "https://localhost:8080/",
          "height": 476
        },
        "outputId": "34507fd1-bd3a-4967-a2e9-28f3b430689b"
      },
      "cell_type": "code",
      "source": [
        "model.add(Flatten())\n",
        "model.add(Dense(512))\n",
        "model.add(Activation('relu'))\n",
        "model.add(Dropout(0.5))\n",
        "model.add(Dense(NB_CLASSES))\n",
        "model.add(Activation('softmax'))\n",
        "model.summary()"
      ],
      "execution_count": 7,
      "outputs": [
        {
          "output_type": "stream",
          "text": [
            "_________________________________________________________________\n",
            "Layer (type)                 Output Shape              Param #   \n",
            "=================================================================\n",
            "conv2d_1 (Conv2D)            (None, 32, 32, 128)       3584      \n",
            "_________________________________________________________________\n",
            "activation_1 (Activation)    (None, 32, 32, 128)       0         \n",
            "_________________________________________________________________\n",
            "max_pooling2d_1 (MaxPooling2 (None, 16, 16, 128)       0         \n",
            "_________________________________________________________________\n",
            "dropout_1 (Dropout)          (None, 16, 16, 128)       0         \n",
            "_________________________________________________________________\n",
            "flatten_1 (Flatten)          (None, 32768)             0         \n",
            "_________________________________________________________________\n",
            "dense_1 (Dense)              (None, 512)               16777728  \n",
            "_________________________________________________________________\n",
            "activation_2 (Activation)    (None, 512)               0         \n",
            "_________________________________________________________________\n",
            "dropout_2 (Dropout)          (None, 512)               0         \n",
            "_________________________________________________________________\n",
            "dense_2 (Dense)              (None, 10)                5130      \n",
            "_________________________________________________________________\n",
            "activation_3 (Activation)    (None, 10)                0         \n",
            "=================================================================\n",
            "Total params: 16,786,442\n",
            "Trainable params: 16,786,442\n",
            "Non-trainable params: 0\n",
            "_________________________________________________________________\n"
          ],
          "name": "stdout"
        }
      ]
    },
    {
      "metadata": {
        "id": "1Uf3VZ91xzpw",
        "colab_type": "code",
        "colab": {}
      },
      "cell_type": "code",
      "source": [
        "\n",
        "tensorboard = TensorBoard(log_dir=LOG_DIR, histogram_freq=0, write_graph=True, write_images=True)\n"
      ],
      "execution_count": 0,
      "outputs": []
    },
    {
      "metadata": {
        "id": "4D7S_OzXnv07",
        "colab_type": "text"
      },
      "cell_type": "markdown",
      "source": [
        "**End of ToDo1**"
      ]
    },
    {
      "metadata": {
        "id": "XBOO22wln6g4",
        "colab_type": "code",
        "colab": {
          "base_uri": "https://localhost:8080/",
          "height": 952
        },
        "outputId": "70bf2d69-824c-4552-8085-7142cc5b7492"
      },
      "cell_type": "code",
      "source": [
        "\n",
        "model.compile(loss='categorical_crossentropy', optimizer=OPTIM, metrics=['accuracy'])\n",
        "history = model.fit(X_train, Y_train, batch_size=BATCH_SIZE, epochs=NB_EPOCH, validation_split=VALIDATION_SPLIT, callbacks=[tensorboard], verbose=VERBOSE)\n",
        "\n",
        "print('Testing...')\n",
        "score = model.evaluate(X_test, Y_test, batch_size=BATCH_SIZE, verbose=VERBOSE)\n",
        "\n",
        "print(\"Test score:\", score[0])\n",
        "print('Test accuracy:', score[1])\n",
        "\n",
        "model_json = model.to_json()\n",
        "open('cifar10_architecture.json', 'w').write(model_json)\n",
        "model.save_weights('cifar10_weights.h5', overwrite=True)"
      ],
      "execution_count": 10,
      "outputs": [
        {
          "output_type": "stream",
          "text": [
            "Train on 40000 samples, validate on 10000 samples\n",
            "Epoch 1/25\n",
            "40000/40000 [==============================] - 18s 440us/step - loss: 1.7138 - acc: 0.4074 - val_loss: 1.3575 - val_acc: 0.5316\n",
            "Epoch 2/25\n",
            "36736/40000 [==========================>...] - ETA: 1s - loss: 1.3175 - acc: 0.5342"
          ],
          "name": "stdout"
        },
        {
          "output_type": "stream",
          "text": [
            "40000/40000 [==============================] - 17s 415us/step - loss: 1.3143 - acc: 0.5359 - val_loss: 1.1944 - val_acc: 0.5932\n",
            "Epoch 3/25\n",
            "40000/40000 [==============================] - 17s 413us/step - loss: 1.1730 - acc: 0.5870 - val_loss: 1.1422 - val_acc: 0.5984\n",
            "Epoch 4/25\n",
            "21120/40000 [==============>...............] - ETA: 7s - loss: 1.0720 - acc: 0.6241"
          ],
          "name": "stdout"
        },
        {
          "output_type": "stream",
          "text": [
            "40000/40000 [==============================] - 17s 414us/step - loss: 1.0741 - acc: 0.6244 - val_loss: 1.1052 - val_acc: 0.6206\n",
            "Epoch 5/25\n",
            "40000/40000 [==============================] - 16s 412us/step - loss: 0.9953 - acc: 0.6524 - val_loss: 1.0873 - val_acc: 0.6241\n",
            "Epoch 6/25\n",
            "19200/40000 [=============>................] - ETA: 8s - loss: 0.9304 - acc: 0.6792"
          ],
          "name": "stdout"
        },
        {
          "output_type": "stream",
          "text": [
            "40000/40000 [==============================] - 16s 412us/step - loss: 0.9294 - acc: 0.6790 - val_loss: 1.0404 - val_acc: 0.6481\n",
            "Epoch 7/25\n",
            "40000/40000 [==============================] - 16s 412us/step - loss: 0.8701 - acc: 0.6947 - val_loss: 1.1082 - val_acc: 0.6221\n",
            "Epoch 8/25\n",
            "19200/40000 [=============>................] - ETA: 8s - loss: 0.8051 - acc: 0.7215"
          ],
          "name": "stdout"
        },
        {
          "output_type": "stream",
          "text": [
            "40000/40000 [==============================] - 17s 414us/step - loss: 0.8214 - acc: 0.7169 - val_loss: 1.0201 - val_acc: 0.6573\n",
            "Epoch 9/25\n",
            "40000/40000 [==============================] - 17s 414us/step - loss: 0.7758 - acc: 0.7313 - val_loss: 1.0598 - val_acc: 0.6685\n",
            "Epoch 10/25\n",
            "16768/40000 [===========>..................] - ETA: 8s - loss: 0.7271 - acc: 0.7484"
          ],
          "name": "stdout"
        },
        {
          "output_type": "stream",
          "text": [
            "40000/40000 [==============================] - 17s 414us/step - loss: 0.7367 - acc: 0.7467 - val_loss: 1.0518 - val_acc: 0.6676\n",
            "Epoch 11/25\n",
            "40000/40000 [==============================] - 17s 414us/step - loss: 0.6970 - acc: 0.7612 - val_loss: 1.0040 - val_acc: 0.6726\n",
            "Epoch 12/25\n",
            "14976/40000 [==========>...................] - ETA: 9s - loss: 0.6439 - acc: 0.7772"
          ],
          "name": "stdout"
        },
        {
          "output_type": "stream",
          "text": [
            "40000/40000 [==============================] - 17s 416us/step - loss: 0.6691 - acc: 0.7706 - val_loss: 1.0319 - val_acc: 0.6803\n",
            "Epoch 13/25\n",
            "40000/40000 [==============================] - 17s 414us/step - loss: 0.6408 - acc: 0.7804 - val_loss: 1.1359 - val_acc: 0.6544\n",
            "Epoch 14/25\n",
            "14592/40000 [=========>....................] - ETA: 9s - loss: 0.5911 - acc: 0.7939"
          ],
          "name": "stdout"
        },
        {
          "output_type": "stream",
          "text": [
            "40000/40000 [==============================] - 17s 413us/step - loss: 0.6102 - acc: 0.7903 - val_loss: 1.0954 - val_acc: 0.6735\n",
            "Epoch 15/25\n",
            "40000/40000 [==============================] - 17s 414us/step - loss: 0.5880 - acc: 0.7990 - val_loss: 1.1120 - val_acc: 0.6722\n",
            "Epoch 16/25\n",
            "14208/40000 [=========>....................] - ETA: 10s - loss: 0.5706 - acc: 0.8102"
          ],
          "name": "stdout"
        },
        {
          "output_type": "stream",
          "text": [
            "40000/40000 [==============================] - 17s 417us/step - loss: 0.5713 - acc: 0.8074 - val_loss: 1.1955 - val_acc: 0.6690\n",
            "Epoch 17/25\n",
            "40000/40000 [==============================] - 17s 416us/step - loss: 0.5518 - acc: 0.8135 - val_loss: 1.1530 - val_acc: 0.6916\n",
            "Epoch 18/25\n",
            "13568/40000 [=========>....................] - ETA: 10s - loss: 0.5123 - acc: 0.8260"
          ],
          "name": "stdout"
        },
        {
          "output_type": "stream",
          "text": [
            "40000/40000 [==============================] - 17s 413us/step - loss: 0.5333 - acc: 0.8191 - val_loss: 1.1572 - val_acc: 0.6802\n",
            "Epoch 19/25\n",
            "40000/40000 [==============================] - 17s 414us/step - loss: 0.5207 - acc: 0.8232 - val_loss: 1.2033 - val_acc: 0.6782\n",
            "Epoch 20/25\n",
            "14080/40000 [=========>....................] - ETA: 10s - loss: 0.4802 - acc: 0.8394"
          ],
          "name": "stdout"
        },
        {
          "output_type": "stream",
          "text": [
            "40000/40000 [==============================] - 17s 416us/step - loss: 0.4956 - acc: 0.8325 - val_loss: 1.1002 - val_acc: 0.6895\n",
            "Epoch 21/25\n",
            "40000/40000 [==============================] - 17s 415us/step - loss: 0.4931 - acc: 0.8339 - val_loss: 1.1045 - val_acc: 0.6777\n",
            "Epoch 22/25\n",
            "13056/40000 [========>.....................] - ETA: 10s - loss: 0.4593 - acc: 0.8448"
          ],
          "name": "stdout"
        },
        {
          "output_type": "stream",
          "text": [
            "40000/40000 [==============================] - 17s 417us/step - loss: 0.4790 - acc: 0.8383 - val_loss: 1.1718 - val_acc: 0.6647\n",
            "Epoch 23/25\n",
            "40000/40000 [==============================] - 17s 413us/step - loss: 0.4702 - acc: 0.8413 - val_loss: 1.1746 - val_acc: 0.6877\n",
            "Epoch 24/25\n",
            "14592/40000 [=========>....................] - ETA: 9s - loss: 0.4380 - acc: 0.8538"
          ],
          "name": "stdout"
        },
        {
          "output_type": "stream",
          "text": [
            "40000/40000 [==============================] - 16s 412us/step - loss: 0.4547 - acc: 0.8479 - val_loss: 1.2081 - val_acc: 0.6834\n",
            "Epoch 25/25\n",
            "40000/40000 [==============================] - 17s 415us/step - loss: 0.4514 - acc: 0.8484 - val_loss: 1.3045 - val_acc: 0.6882\n",
            "Testing...\n",
            "10000/10000 [==============================] - 1s 113us/step\n",
            "('Test score:', 1.2904565540313722)\n",
            "('Test accuracy:', 0.6835)\n"
          ],
          "name": "stdout"
        }
      ]
    },
    {
      "metadata": {
        "id": "nJGwfAF0s10m",
        "colab_type": "code",
        "colab": {
          "base_uri": "https://localhost:8080/",
          "height": 932
        },
        "outputId": "c79f95b8-9a18-45e5-eeed-eea4c3a4dbac"
      },
      "cell_type": "code",
      "source": [
        "print(history.history.keys())\n",
        "\n",
        "plt.plot(history.history['val_acc'])\n",
        "plt.title('model accuracy')\n",
        "plt.ylabel('accuracy')\n",
        "plt.xlabel('epoch')\n",
        "plt.legend(['train', 'test'], loc='upper left')\n",
        "plt.show()\n",
        "\n",
        "plt.plot(history.history['loss'])\n",
        "plt.plot(history.history['val_loss'])\n",
        "plt.title('model loss')\n",
        "plt.ylabel('loss')\n",
        "plt.xlabel('epoch')\n",
        "plt.legend(['train', 'test'], loc='upper left')\n",
        "plt.show()\n",
        "plt.save()"
      ],
      "execution_count": 11,
      "outputs": [
        {
          "output_type": "stream",
          "text": [
            "['acc', 'loss', 'val_acc', 'val_loss']\n"
          ],
          "name": "stdout"
        },
        {
          "output_type": "display_data",
          "data": {
            "image/png": "[encoded data removed]",
            "text/plain": [
              "<matplotlib.figure.Figure at 0x7fefb9f54c90>"
            ]
          },
          "metadata": {
            "tags": []
          }
        },
        {
          "output_type": "display_data",
          "data": {
            "image/png": "[encoded data removed]",
            "text/plain": [
              "<matplotlib.figure.Figure at 0x7fefb9f14e50>"
            ]
          },
          "metadata": {
            "tags": []
          }
        },
        {
          "output_type": "error",
          "ename": "AttributeError",
          "evalue": "ignored",
          "traceback": [
            "\u001b[0;31m\u001b[0m",
            "\u001b[0;31mAttributeError\u001b[0mTraceback (most recent call last)",
            "\u001b[0;32m<ipython-input-11-a68aa6d738c1>\u001b[0m in \u001b[0;36m<module>\u001b[0;34m()\u001b[0m\n\u001b[1;32m     15\u001b[0m \u001b[0mplt\u001b[0m\u001b[0;34m.\u001b[0m\u001b[0mlegend\u001b[0m\u001b[0;34m(\u001b[0m\u001b[0;34m[\u001b[0m\u001b[0;34m'train'\u001b[0m\u001b[0;34m,\u001b[0m \u001b[0;34m'test'\u001b[0m\u001b[0;34m]\u001b[0m\u001b[0;34m,\u001b[0m \u001b[0mloc\u001b[0m\u001b[0;34m=\u001b[0m\u001b[0;34m'upper left'\u001b[0m\u001b[0;34m)\u001b[0m\u001b[0;34m\u001b[0m\u001b[0m\n\u001b[1;32m     16\u001b[0m \u001b[0mplt\u001b[0m\u001b[0;34m.\u001b[0m\u001b[0mshow\u001b[0m\u001b[0;34m(\u001b[0m\u001b[0;34m)\u001b[0m\u001b[0;34m\u001b[0m\u001b[0m\n\u001b[0;32m---> 17\u001b[0;31m \u001b[0mplt\u001b[0m\u001b[0;34m.\u001b[0m\u001b[0msave\u001b[0m\u001b[0;34m(\u001b[0m\u001b[0;34m)\u001b[0m\u001b[0;34m\u001b[0m\u001b[0m\n\u001b[0m",
            "\u001b[0;31mAttributeError\u001b[0m: 'module' object has no attribute 'save'"
          ]
        }
      ]
    }
  ]
}