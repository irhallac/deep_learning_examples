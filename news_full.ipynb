{
  "nbformat": 4,
  "nbformat_minor": 0,
  "metadata": {
    "colab": {
      "name": "news_full.ipynb",
      "version": "0.3.2",
      "provenance": []
    },
    "kernelspec": {
      "name": "python2",
      "display_name": "Python 2"
    }
  },
  "cells": [
    {
      "cell_type": "markdown",
      "metadata": {
        "id": "view-in-github",
        "colab_type": "text"
      },
      "source": [
        "[View in Colaboratory](https://colab.research.google.com/github/irhallac/deep_learning_examples/blob/master/news_full.ipynb)"
      ]
    },
    {
      "metadata": {
        "id": "2IXDlPSfK64Y",
        "colab_type": "code",
        "colab": {}
      },
      "cell_type": "code",
      "source": [
        "!apt-get install -y -qq software-properties-common python-software-properties module-init-tools\n",
        "!add-apt-repository -y ppa:alessandro-strada/ppa 2>&1 > /dev/null\n",
        "!apt-get update -qq 2>&1 > /dev/null\n",
        "!apt-get -y install -qq google-drive-ocamlfuse fuse\n",
        "from google.colab import auth\n",
        "auth.authenticate_user()\n",
        "from oauth2client.client import GoogleCredentials\n",
        "creds = GoogleCredentials.get_application_default()\n",
        "import getpass\n",
        "!google-drive-ocamlfuse -headless -id={creds.client_id} -secret={creds.client_secret} < /dev/null 2>&1 | grep URL\n",
        "vcode = getpass.getpass()\n",
        "!echo {vcode} | google-drive-ocamlfuse -headless -id={creds.client_id} -secret={creds.client_secret}"
      ],
      "execution_count": 0,
      "outputs": []
    },
    {
      "metadata": {
        "id": "O51wBMJYL6Jo",
        "colab_type": "code",
        "colab": {}
      },
      "cell_type": "code",
      "source": [
        "!mkdir -p drive\n",
        "!google-drive-ocamlfuse drive"
      ],
      "execution_count": 0,
      "outputs": []
    },
    {
      "metadata": {
        "id": "andXBN-eMEta",
        "colab_type": "code",
        "colab": {}
      },
      "cell_type": "code",
      "source": [
        "cd /content/drive/Colab Notebooks/full_version"
      ],
      "execution_count": 0,
      "outputs": []
    },
    {
      "metadata": {
        "id": "1TQBwds-MsyH",
        "colab_type": "code",
        "colab": {}
      },
      "cell_type": "code",
      "source": [
        "import numpy as np\n",
        "import os\n",
        "\n",
        "miniData = []\n",
        "filenames = ['ekonomi100k.txt', 'politika100k.txt', 'spor100k.txt']\n",
        "for fname in filenames:\n",
        "    with open(fname) as infile:\n",
        "        for line in infile:\n",
        "            try:\n",
        "              _Y, _X = line.strip().split(\"\\t\")\n",
        "              miniData.append([_X, _Y])\n",
        "            except Exception as e:\n",
        "              print line\n",
        "              #print(e)\n",
        "              pass\n",
        "np.random.shuffle(miniData)\n",
        "train_x = [x[0] for x in miniData]\n",
        "train_y = np.asarray([x[1] for x in miniData])\n",
        "miniData = None\n",
        "#print train_x[0] , \" \" , train_y[0]\n",
        "#print train_x[1] , \" \" , train_y[1]\n",
        "\n",
        "num_of_classes = len(np.unique(train_y))"
      ],
      "execution_count": 0,
      "outputs": []
    },
    {
      "metadata": {
        "id": "M65WpNaHP-v1",
        "colab_type": "code",
        "colab": {
          "base_uri": "https://localhost:8080/",
          "height": 34
        },
        "outputId": "7fc239eb-0c80-4b5a-d092-f74fb4eb62d6"
      },
      "cell_type": "code",
      "source": [
        "i = 0\n",
        "for val in train_y:\n",
        "  if val == '3':\n",
        "    i = i+1\n",
        "print i\n",
        "  "
      ],
      "execution_count": 32,
      "outputs": [
        {
          "output_type": "stream",
          "text": [
            "100000\n"
          ],
          "name": "stdout"
        }
      ]
    },
    {
      "metadata": {
        "id": "Qgcj2GSWSYCb",
        "colab_type": "code",
        "colab": {}
      },
      "cell_type": "code",
      "source": [
        "from sklearn.preprocessing import LabelEncoder\n",
        "from keras.utils import np_utils\n",
        "\n",
        "# encode class values as integers\n",
        "encoder = LabelEncoder()\n",
        "encoder.fit(train_y)\n",
        "encoded_Y = encoder.transform(train_y)\n",
        "# convert integers to dummy variables (i.e. one hot encoded)\n",
        "train_y = np_utils.to_categorical(encoded_Y)"
      ],
      "execution_count": 0,
      "outputs": []
    },
    {
      "metadata": {
        "id": "kFM6bzDaS1qc",
        "colab_type": "code",
        "colab": {}
      },
      "cell_type": "code",
      "source": [
        "import json\n",
        "import keras\n",
        "import keras.preprocessing.text as kpt\n",
        "from keras.preprocessing.text import Tokenizer\n",
        "\n",
        "max_words = 3000\n",
        "\n",
        "tokenizer = Tokenizer(num_words=max_words)\n",
        "tokenizer.fit_on_texts(train_x)\n",
        "dictionary = tokenizer.word_index\n",
        "\n",
        "with open('dictionary.json', 'w') as dictionary_file:\n",
        "    json.dump(dictionary, dictionary_file)\n",
        "\n",
        "\n",
        "def convert_text_to_index_array(text):\n",
        "    return [dictionary[word] for word in kpt.text_to_word_sequence(text)]\n",
        "\n",
        "\n",
        "allWordIndices = []\n",
        "for text in train_x:\n",
        "    wordIndices = convert_text_to_index_array(text)\n",
        "    allWordIndices.append(wordIndices)\n",
        "\n",
        "allWordIndices = np.asarray(allWordIndices)\n",
        "train_x = tokenizer.sequences_to_matrix(allWordIndices, mode='binary')\n",
        "#train_y = keras.utils.to_categorical(train_y, 4)"
      ],
      "execution_count": 0,
      "outputs": []
    },
    {
      "metadata": {
        "id": "xsjUokXzS6JM",
        "colab_type": "code",
        "colab": {
          "base_uri": "https://localhost:8080/",
          "height": 34
        },
        "outputId": "83090d87-d049-4cee-d4b3-a52e2f150099"
      },
      "cell_type": "code",
      "source": [
        "convert_text_to_index_array(\"komutan suriyede bin askerimiz var dogal\")"
      ],
      "execution_count": 35,
      "outputs": [
        {
          "output_type": "execute_result",
          "data": {
            "text/plain": [
              "[17126, 3104, 27, 15600, 20, 1256]"
            ]
          },
          "metadata": {
            "tags": []
          },
          "execution_count": 35
        }
      ]
    },
    {
      "metadata": {
        "id": "j8qc5UgKYaed",
        "colab_type": "code",
        "colab": {}
      },
      "cell_type": "code",
      "source": [
        "import h5py\n",
        "with h5py.File('train_x.h5', 'w') as hf:\n",
        "    hf.create_dataset(\"three-class-all\",  data=train_x)"
      ],
      "execution_count": 0,
      "outputs": []
    },
    {
      "metadata": {
        "id": "jeCNcbBoS-qk",
        "colab_type": "code",
        "colab": {}
      },
      "cell_type": "code",
      "source": [
        "from keras.models import Sequential\n",
        "from keras.layers import Dense, Dropout, Activation\n",
        "\n",
        "model = Sequential()\n",
        "model.add(Dense(512, input_shape=(max_words,), activation='relu'))\n",
        "model.add(Dropout(0.5))\n",
        "model.add(Dense(256, activation='sigmoid'))\n",
        "model.add(Dropout(0.5))\n",
        "model.add(Dense(num_of_classes, activation='softmax'))"
      ],
      "execution_count": 0,
      "outputs": []
    },
    {
      "metadata": {
        "id": "SfvEhCwyS_t4",
        "colab_type": "code",
        "colab": {
          "base_uri": "https://localhost:8080/",
          "height": 241
        },
        "outputId": "8b2b2fad-c3b9-4dec-ef4a-592ec176b48e"
      },
      "cell_type": "code",
      "source": [
        "model.compile(loss='categorical_crossentropy',\n",
        "  optimizer='adam',\n",
        "  metrics=['accuracy'])\n",
        "\n",
        "model.fit(train_x, train_y,\n",
        "  batch_size=32,\n",
        "  epochs=5,\n",
        "  verbose=1,\n",
        "  validation_split=0.1,\n",
        "  shuffle=True)"
      ],
      "execution_count": 38,
      "outputs": [
        {
          "output_type": "stream",
          "text": [
            "Train on 270000 samples, validate on 30000 samples\n",
            "Epoch 1/5\n",
            " 41952/270000 [===>..........................] - ETA: 4:28 - loss: 0.2143 - acc: 0.9198"
          ],
          "name": "stdout"
        },
        {
          "output_type": "stream",
          "text": [
            "269952/270000 [============================>.] - ETA: 0s - loss: 0.1496 - acc: 0.9468"
          ],
          "name": "stdout"
        },
        {
          "output_type": "stream",
          "text": [
            "270000/270000 [==============================] - 277s 1ms/step - loss: 0.1496 - acc: 0.9468 - val_loss: 0.1170 - val_acc: 0.9584\n",
            "Epoch 2/5\n",
            " 28192/270000 [==>...........................] - ETA: 3:42 - loss: 0.0983 - acc: 0.9654"
          ],
          "name": "stdout"
        },
        {
          "output_type": "stream",
          "text": [
            "269984/270000 [============================>.] - ETA: 0s - loss: 0.1015 - acc: 0.9648"
          ],
          "name": "stdout"
        },
        {
          "output_type": "stream",
          "text": [
            "270000/270000 [==============================] - 250s 925us/step - loss: 0.1015 - acc: 0.9648 - val_loss: 0.1103 - val_acc: 0.9620\n",
            "Epoch 3/5\n",
            " 27936/270000 [==>...........................] - ETA: 3:40 - loss: 0.0688 - acc: 0.9759"
          ],
          "name": "stdout"
        },
        {
          "output_type": "stream",
          "text": [
            "269984/270000 [============================>.] - ETA: 0s - loss: 0.0756 - acc: 0.9740"
          ],
          "name": "stdout"
        },
        {
          "output_type": "stream",
          "text": [
            "270000/270000 [==============================] - 249s 922us/step - loss: 0.0756 - acc: 0.9740 - val_loss: 0.1118 - val_acc: 0.9630\n",
            "Epoch 4/5\n",
            " 27936/270000 [==>...........................] - ETA: 3:37 - loss: 0.0496 - acc: 0.9835"
          ],
          "name": "stdout"
        },
        {
          "output_type": "stream",
          "text": [
            "269984/270000 [============================>.] - ETA: 0s - loss: 0.0573 - acc: 0.9808"
          ],
          "name": "stdout"
        },
        {
          "output_type": "stream",
          "text": [
            "270000/270000 [==============================] - 247s 915us/step - loss: 0.0573 - acc: 0.9808 - val_loss: 0.1237 - val_acc: 0.9637\n",
            "Epoch 5/5\n",
            " 27936/270000 [==>...........................] - ETA: 3:37 - loss: 0.0370 - acc: 0.9883"
          ],
          "name": "stdout"
        },
        {
          "output_type": "stream",
          "text": [
            "269952/270000 [============================>.] - ETA: 0s - loss: 0.0453 - acc: 0.9853"
          ],
          "name": "stdout"
        },
        {
          "output_type": "stream",
          "text": [
            "\b\b\b\b\b\b\b\b\b\b\b\b\b\b\b\b\b\b\b\b\b\b\b\b\b\b\b\b\b\b\b\b\b\b\b\b\b\b\b\b\b\b\b\b\b\b\b\b\b\b\b\b\b\b\b\b\b\b\b\b\b\b\b\b\b\b\b\b\b\b\b\b\b\b\b\b\b\b\b\b\b\b\b\b\b\r270000/270000 [==============================] - 249s 922us/step - loss: 0.0454 - acc: 0.9853 - val_loss: 0.1250 - val_acc: 0.9645\n"
          ],
          "name": "stdout"
        },
        {
          "output_type": "execute_result",
          "data": {
            "text/plain": [
              "<keras.callbacks.History at 0x7f2fc76d6ad0>"
            ]
          },
          "metadata": {
            "tags": []
          },
          "execution_count": 38
        }
      ]
    },
    {
      "metadata": {
        "id": "4j3xs3fAa48a",
        "colab_type": "code",
        "colab": {}
      },
      "cell_type": "code",
      "source": [
        "#save the model\n",
        "model_json = model.to_json()\n",
        "with open('model.json', 'w') as json_file:\n",
        "    json_file.write(model_json)\n",
        "\n",
        "model.save_weights('model.h5')"
      ],
      "execution_count": 0,
      "outputs": []
    },
    {
      "metadata": {
        "id": "VLY59zXpa6K8",
        "colab_type": "code",
        "colab": {}
      },
      "cell_type": "code",
      "source": [
        "def turkcelestir(metin):\n",
        "  metin = metin.decode(\"utf-8\") # because u'string'.translate\n",
        "  turkce = {ord(c): ord(t) for c, t in zip(u\"ÇĞİÖŞÜçğıöşü\", u\"CGIOSUcgiosu\")}\n",
        "  #print metin.translate(turkce)\n",
        "  return metin.translate(turkce)"
      ],
      "execution_count": 0,
      "outputs": []
    },
    {
      "metadata": {
        "id": "ol7KGYt_a-GP",
        "colab_type": "code",
        "colab": {
          "base_uri": "https://localhost:8080/",
          "height": 34
        },
        "outputId": "971ceb1a-0b08-49cb-beef-942fab3f4e2e"
      },
      "cell_type": "code",
      "source": [
        "turkcelestir('ömer çaydanlık Ğözde')\n",
        "txt1 = 'Bingöl de 24 Mayıs 1993 tarihinde'\n",
        "print turkcelestir(txt1)\n",
        "#txt1 = txt1.replace('\\n', ' ')"
      ],
      "execution_count": 41,
      "outputs": [
        {
          "output_type": "stream",
          "text": [
            "Bingol de 24 Mayis 1993 tarihinde\n"
          ],
          "name": "stdout"
        }
      ]
    },
    {
      "metadata": {
        "id": "PXpV6epZbB9o",
        "colab_type": "code",
        "colab": {
          "base_uri": "https://localhost:8080/",
          "height": 124
        },
        "outputId": "8f6569a2-f1eb-4b05-a3c5-e3214bb258e2"
      },
      "cell_type": "code",
      "source": [
        "import json\n",
        "import numpy as np\n",
        "import keras\n",
        "import keras.preprocessing.text as kpt\n",
        "from keras.preprocessing.text import Tokenizer\n",
        "from keras.models import model_from_json\n",
        "\n",
        "# we're still going to use a Tokenizer here, but we don't need to fit it\n",
        "tokenizer = Tokenizer(num_words=3000)\n",
        "# for human-friendly printing\n",
        "labels = ['politika', 'spor', 'ekonomi']\n",
        "\n",
        "# read in our saved dictionary\n",
        "with open('dictionary.json', 'r') as dictionary_file:\n",
        "    dictionary = json.load(dictionary_file)\n",
        "\n",
        "# this utility makes sure that all the words in your input\n",
        "# are registered in the dictionary\n",
        "# before trying to turn them into a matrix.\n",
        "def convert_text_to_index_array(text):\n",
        "    words = kpt.text_to_word_sequence(text)\n",
        "    wordIndices = []\n",
        "    for word in words:\n",
        "        if word in dictionary:\n",
        "            wordIndices.append(dictionary[word])\n",
        "        else:\n",
        "            print(\"'%s' not in training corpus; ignoring.\" %(word))\n",
        "    return wordIndices\n",
        "\n",
        "# read in your saved model structure\n",
        "json_file = open('model.json', 'r')\n",
        "loaded_model_json = json_file.read()\n",
        "json_file.close()\n",
        "# and create a model from that\n",
        "model = model_from_json(loaded_model_json)\n",
        "# and weight your nodes with your saved values\n",
        "model.load_weights('model.h5')\n",
        "\n",
        "# okay here's the interactive part\n",
        "while 1:\n",
        "    evalSentence = raw_input('Test için bir cümle girin, çıkmak için Enter: ')\n",
        "\n",
        "    if len(evalSentence) == 0:\n",
        "        break\n",
        "\n",
        "    # format your input for the neural net\n",
        "    evalSentence = turkcelestir(evalSentence)\n",
        "    testArr = convert_text_to_index_array(evalSentence)\n",
        "    input = tokenizer.sequences_to_matrix([testArr], mode='binary')\n",
        "    # predict which bucket your input belongs in\n",
        "    pred = model.predict(input)\n",
        "    # and print it for the humons\n",
        "    print(\"Tahmin edilen sınıf: %s ; %f%% confidence\" % (labels[np.argmax(pred)], pred[0][np.argmax(pred)] * 100))"
      ],
      "execution_count": 0,
      "outputs": [
        {
          "output_type": "stream",
          "text": [
            "Test için bir cümle girin, çıkmak için Enter: cumhurbaşkanı yaptığu açıklamada meclisin\n",
            "Tahmin edilen sınıf: politika ; 99.520725% confidence\n",
            "Test için bir cümle girin, çıkmak için Enter: beşiktaş yenilgiyle ayrıldı\n",
            "Tahmin edilen sınıf: spor ; 99.848783% confidence\n"
          ],
          "name": "stdout"
        }
      ]
    }
  ]
}